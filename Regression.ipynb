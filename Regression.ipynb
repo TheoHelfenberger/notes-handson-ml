{
  "nbformat": 4,
  "nbformat_minor": 0,
  "metadata": {
    "colab": {
      "name": "Regression.ipynb",
      "provenance": [],
      "collapsed_sections": [],
      "authorship_tag": "ABX9TyOTE5OE5bexQoKU6bA/EK6N",
      "include_colab_link": true
    },
    "kernelspec": {
      "name": "python3",
      "display_name": "Python 3"
    }
  },
  "cells": [
    {
      "cell_type": "markdown",
      "metadata": {
        "id": "view-in-github",
        "colab_type": "text"
      },
      "source": [
        "<a href=\"https://colab.research.google.com/github/TheoHelfenberger/notes-handson-ml/blob/main/Regression.ipynb\" target=\"_parent\"><img src=\"https://colab.research.google.com/assets/colab-badge.svg\" alt=\"Open In Colab\"/></a>"
      ]
    },
    {
      "cell_type": "markdown",
      "metadata": {
        "id": "0rfU8BIgsDa0"
      },
      "source": [
        "[Matrix Calculus](https://atmos.uw.edu/~dennis/MatrixCalculus.pdf)\n",
        "\n",
        "[Details for Normal equation for linear regression](https://eli.thegreenplace.net/2014/derivation-of-the-normal-equation-for-linear-regression)"
      ]
    },
    {
      "cell_type": "code",
      "metadata": {
        "id": "TBPE-S8stJSV"
      },
      "source": [
        "import numpy as np\n",
        "# to make this notebook's output stable across runs\n",
        "np.random.seed(42)\n",
        "\n",
        "# To plot pretty figures\n",
        "%matplotlib inline\n",
        "import matplotlib as mpl\n",
        "import matplotlib.pyplot as plt\n",
        "\n",
        "mpl.rc('axes', labelsize=14)\n",
        "mpl.rc('xtick', labelsize=12)\n",
        "mpl.rc('ytick', labelsize=12)"
      ],
      "execution_count": null,
      "outputs": []
    },
    {
      "cell_type": "code",
      "metadata": {
        "id": "m7hKDc7ssggh"
      },
      "source": [
        "import numpy as np\n",
        "\n",
        "X = 2 * np.random.rand(100, 1)\n",
        "y = 4 + 3 * X + np.random.randn(100, 1)"
      ],
      "execution_count": null,
      "outputs": []
    },
    {
      "cell_type": "markdown",
      "metadata": {
        "id": "8lC73v85xZWn"
      },
      "source": [
        "[Matplotlib](https://www.analyticsvidhya.com/blog/2020/05/10-matplotlib-tricks-data-visualization-python/)\n",
        "\n",
        "*Normal Equation*\n",
        "$$ \\hat{\\theta} = (X^TX)^\\mathsf{-1} X^T y $$"
      ]
    },
    {
      "cell_type": "code",
      "metadata": {
        "colab": {
          "base_uri": "https://localhost:8080/",
          "height": 290
        },
        "id": "ZW0yUlactOQN",
        "outputId": "9625dbac-5ac1-42e5-da7b-7901629612f5"
      },
      "source": [
        "plt.plot(X, y, \"b.\")\n",
        "plt.xlabel(\"$x_1$\", fontsize=18)\n",
        "plt.ylabel(\"$y$\", rotation=0, fontsize=18)\n",
        "plt.axis([0, 2, 0, 15])\n",
        "plt.show()"
      ],
      "execution_count": null,
      "outputs": [
        {
          "output_type": "display_data",
          "data": {
            "image/png": "[encoded data removed]",
            "text/plain": [
              "<Figure size 432x288 with 1 Axes>"
            ]
          },
          "metadata": {
            "tags": [],
            "needs_background": "light"
          }
        }
      ]
    },
    {
      "cell_type": "code",
      "metadata": {
        "colab": {
          "base_uri": "https://localhost:8080/"
        },
        "id": "kF73qHFQz_ny",
        "outputId": "7a08e6dd-939f-4ed9-9956-f3f2b118a9f9"
      },
      "source": [
        "X_b = np.c_[np.ones((100, 1)), X]  # add x0 = 1 to each instance\n",
        "theta_best = np.linalg.inv(X_b.T@X_b)@X_b.T@y\n",
        "theta_best"
      ],
      "execution_count": null,
      "outputs": [
        {
          "output_type": "execute_result",
          "data": {
            "text/plain": [
              "array([[4.21509616],\n",
              "       [2.77011339]])"
            ]
          },
          "metadata": {
            "tags": []
          },
          "execution_count": 93
        }
      ]
    },
    {
      "cell_type": "code",
      "metadata": {
        "colab": {
          "base_uri": "https://localhost:8080/"
        },
        "id": "uD2zsBhE1GxU",
        "outputId": "55f9154e-e38e-45fc-c3d1-bf0bfc664e7d"
      },
      "source": [
        "X_new = np.array([[0], [2]])\n",
        "X_new_b = np.c_[np.ones((2, 1)), X_new]  # add x0 = 1 to each instance\n",
        "print(X_new_b)\n",
        "y_predict = X_new_b.dot(theta_best)\n",
        "y_predict"
      ],
      "execution_count": null,
      "outputs": [
        {
          "output_type": "stream",
          "text": [
            "[[1. 0.]\n",
            " [1. 2.]]\n"
          ],
          "name": "stdout"
        },
        {
          "output_type": "execute_result",
          "data": {
            "text/plain": [
              "array([[4.21509616],\n",
              "       [9.75532293]])"
            ]
          },
          "metadata": {
            "tags": []
          },
          "execution_count": 94
        }
      ]
    },
    {
      "cell_type": "code",
      "metadata": {
        "colab": {
          "base_uri": "https://localhost:8080/",
          "height": 290
        },
        "id": "dujWWomy10Dw",
        "outputId": "657dadd9-a21f-4eb0-bf39-7cd393c03674"
      },
      "source": [
        "plt.plot(X, y, \"b.\")\n",
        "plt.plot(X_new, y_predict, \"r-\")\n",
        "plt.xlabel(\"$x_1$\", fontsize=18)\n",
        "plt.ylabel(\"$y$\", rotation=0, fontsize=18)\n",
        "plt.axis([0, 2, 0, 15])\n",
        "plt.show()"
      ],
      "execution_count": null,
      "outputs": [
        {
          "output_type": "display_data",
          "data": {
            "image/png": "[encoded data removed]",
            "text/plain": [
              "<Figure size 432x288 with 1 Axes>"
            ]
          },
          "metadata": {
            "tags": [],
            "needs_background": "light"
          }
        }
      ]
    },
    {
      "cell_type": "code",
      "metadata": {
        "colab": {
          "base_uri": "https://localhost:8080/"
        },
        "id": "MCsYp43u5E53",
        "outputId": "12c6a6df-a746-4fcb-e1ef-2b46907dc800"
      },
      "source": [
        "from sklearn.linear_model import LinearRegression\n",
        "\n",
        "lin_reg = LinearRegression()\n",
        "lin_reg.fit(X, y)\n",
        "lin_reg.intercept_, lin_reg.coef_"
      ],
      "execution_count": null,
      "outputs": [
        {
          "output_type": "execute_result",
          "data": {
            "text/plain": [
              "(array([4.21509616]), array([[2.77011339]]))"
            ]
          },
          "metadata": {
            "tags": []
          },
          "execution_count": 96
        }
      ]
    },
    {
      "cell_type": "markdown",
      "metadata": {
        "id": "-_x-SEXS5I2Y"
      },
      "source": [
        "Uses Pseudo Inverse - Moore Penrose Inverse"
      ]
    },
    {
      "cell_type": "code",
      "metadata": {
        "colab": {
          "base_uri": "https://localhost:8080/"
        },
        "id": "wwNs9tHl4wI-",
        "outputId": "503a21f5-82c4-4d9c-f367-0262a431b661"
      },
      "source": [
        "np.linalg.pinv(X_b)@y"
      ],
      "execution_count": null,
      "outputs": [
        {
          "output_type": "execute_result",
          "data": {
            "text/plain": [
              "array([[4.21509616],\n",
              "       [2.77011339]])"
            ]
          },
          "metadata": {
            "tags": []
          },
          "execution_count": 97
        }
      ]
    },
    {
      "cell_type": "markdown",
      "metadata": {
        "id": "4cRJAgSyASQ6"
      },
      "source": [
        "$${\\nabla_{\\theta} MSE(\\theta)} = {2\\over{m}} X^T(X\\theta-y)$$\n",
        "\n",
        "$$ \\theta^\\mathsf{(next step)} = \\theta - \\eta \\nabla_{\\theta} MSE(\\theta)$$"
      ]
    },
    {
      "cell_type": "code",
      "metadata": {
        "colab": {
          "base_uri": "https://localhost:8080/"
        },
        "id": "Rpyd3ZEaCTAG",
        "outputId": "81525d7f-e635-468b-c329-248681847fb3"
      },
      "source": [
        "eta = 0.1\n",
        "n_iterations = 1000\n",
        "m = 100\n",
        "\n",
        "# random initialization\n",
        "theta = np.random.randn(2,1)\n",
        "\n",
        "for it in range(n_iterations):\n",
        "  gradients = 2/m * X_b.T@(X_b@theta -y)\n",
        "  theta = theta - eta * gradients\n",
        "\n",
        "theta"
      ],
      "execution_count": null,
      "outputs": [
        {
          "output_type": "execute_result",
          "data": {
            "text/plain": [
              "array([[4.21509616],\n",
              "       [2.77011339]])"
            ]
          },
          "metadata": {
            "tags": []
          },
          "execution_count": 99
        }
      ]
    },
    {
      "cell_type": "markdown",
      "metadata": {
        "id": "Oy0CWtrVn02u"
      },
      "source": [
        "[[1.96734249]\n",
        " [0.72909213]]\n",
        "array([[190.88136369],\n",
        "       [165.43296694]])"
      ]
    },
    {
      "cell_type": "code",
      "metadata": {
        "colab": {
          "base_uri": "https://localhost:8080/",
          "height": 342
        },
        "id": "4FzR50GEV8OX",
        "outputId": "f8378ae2-d0c8-4903-df65-ff09e8058d56"
      },
      "source": [
        "theta_path_sgd = []\n",
        "m = len(X_b)\n",
        "print(f\"m is {m}\")\n",
        "np.random.seed(42)\n",
        "\n",
        "n_epochs = 50\n",
        "t0,t1=5,50\n",
        "# learning rate gets smaller the later in the process --> simulated annealing\n",
        "def learning_schedule(t):\n",
        "  return t0/(t + t1)\n",
        "\n",
        "# random initialization\n",
        "theta = np.random.randn(2,1)\n",
        "for epoch in range(n_epochs):\n",
        "    for i in range(m):\n",
        "        if epoch == 0 and i < 20:                    # not shown in the book\n",
        "            y_predict = X_new_b.dot(theta)           # not shown\n",
        "            style = \"b-\" if i > 0 else \"r--\"         # not shown\n",
        "            plt.plot(X_new, y_predict, style)        # not shown\n",
        "        random_index = np.random.randint(m)\n",
        "        xi = X_b[random_index:random_index+1]\n",
        "        yi = y[random_index:random_index+1]\n",
        "        gradients = 2 * xi.T.dot(xi.dot(theta) - yi)\n",
        "        eta = learning_schedule(epoch * m + i)\n",
        "        theta = theta - eta * gradients\n",
        "        theta_path_sgd.append(theta)                 # not shown\n",
        "\n",
        "plt.plot(X, y, \"b.\")                                 # not shown\n",
        "plt.xlabel(\"$x_1$\", fontsize=18)                     # not shown\n",
        "plt.ylabel(\"$y$\", rotation=0, fontsize=18)           # not shown\n",
        "plt.axis([0, 2, 0, 15])                              # not shown\n",
        "\n",
        "plt.show()                                           # not shown\n",
        "theta"
      ],
      "execution_count": null,
      "outputs": [
        {
          "output_type": "stream",
          "text": [
            "m is 100\n"
          ],
          "name": "stdout"
        },
        {
          "output_type": "display_data",
          "data": {
            "image/png": "[encoded data removed]",
            "text/plain": [
              "<Figure size 432x288 with 1 Axes>"
            ]
          },
          "metadata": {
            "tags": [],
            "needs_background": "light"
          }
        },
        {
          "output_type": "execute_result",
          "data": {
            "text/plain": [
              "array([[4.21076011],\n",
              "       [2.74856079]])"
            ]
          },
          "metadata": {
            "tags": []
          },
          "execution_count": 100
        }
      ]
    },
    {
      "cell_type": "code",
      "metadata": {
        "colab": {
          "base_uri": "https://localhost:8080/"
        },
        "id": "mTL1s9WXY2f_",
        "outputId": "973f41c0-d657-4d3d-ef77-dcf5e591283e"
      },
      "source": [
        "from sklearn.linear_model import SGDRegressor\n",
        "sgd_reg = SGDRegressor(max_iter=1000, tol=1e-3, penalty=None, eta0=0.1)\n",
        "sgd_reg.fit(X, y.ravel())\n",
        "\n",
        "sgd_reg.intercept_, sgd_reg.coef_"
      ],
      "execution_count": null,
      "outputs": [
        {
          "output_type": "execute_result",
          "data": {
            "text/plain": [
              "(array([4.23868557]), array([2.82181634]))"
            ]
          },
          "metadata": {
            "tags": []
          },
          "execution_count": 101
        }
      ]
    },
    {
      "cell_type": "markdown",
      "metadata": {
        "id": "VubAuzRraXD-"
      },
      "source": [
        "see [SGDRegressor](https://scikit-learn.org/stable/modules/generated/sklearn.linear_model.SGDRegressor.html)"
      ]
    },
    {
      "cell_type": "code",
      "metadata": {
        "id": "dXt0EPjNc3wJ"
      },
      "source": [
        "\n",
        "m = 100\n",
        "X = 6 * np.random.rand(m, 1) - 3\n",
        "y = 0.5 * X**2 + X + 2 + np.random.randn(m, 1)"
      ],
      "execution_count": null,
      "outputs": []
    },
    {
      "cell_type": "code",
      "metadata": {
        "colab": {
          "base_uri": "https://localhost:8080/",
          "height": 295
        },
        "id": "X_1q0t6rc4gh",
        "outputId": "a3b27b71-6067-4b94-d07a-bfbbc27f19f6"
      },
      "source": [
        "plt.plot(X, y, \"b.\")\n",
        "plt.xlabel(\"$x_1$\", fontsize=18)\n",
        "plt.ylabel(\"$y$\", rotation=0, fontsize=18)\n",
        "plt.axis([-3, 3, 0, 10])\n",
        "plt.show()"
      ],
      "execution_count": null,
      "outputs": [
        {
          "output_type": "display_data",
          "data": {
            "image/png": "[encoded data removed]",
            "text/plain": [
              "<Figure size 432x288 with 1 Axes>"
            ]
          },
          "metadata": {
            "tags": [],
            "needs_background": "light"
          }
        }
      ]
    },
    {
      "cell_type": "code",
      "metadata": {
        "colab": {
          "base_uri": "https://localhost:8080/"
        },
        "id": "gJ9HEgI9dVBA",
        "outputId": "ae164831-476b-4e9f-f0a2-2521c70d44b7"
      },
      "source": [
        "from sklearn.preprocessing import PolynomialFeatures\n",
        "poly_features = PolynomialFeatures(degree=2, include_bias=False)\n",
        "X_poly = poly_features.fit_transform(X)\n",
        "print(X[0], X_poly[0])\n"
      ],
      "execution_count": null,
      "outputs": [
        {
          "output_type": "stream",
          "text": [
            "[1.97322766] [1.97322766 3.89362739]\n"
          ],
          "name": "stdout"
        }
      ]
    },
    {
      "cell_type": "markdown",
      "metadata": {
        "id": "DvS652psySnA"
      },
      "source": [
        "Playing around with numbers of iterations"
      ]
    },
    {
      "cell_type": "code",
      "metadata": {
        "colab": {
          "base_uri": "https://localhost:8080/"
        },
        "id": "dkAod0EZdrAk",
        "outputId": "a64cbcab-c1d1-4a1e-ab6b-1502ce6d3c50"
      },
      "source": [
        "#lin_reg = LinearRegression()\n",
        "lin_reg = SGDRegressor(max_iter=10, tol=1e-3, penalty=None, eta0=0.01)\n",
        "lin_reg.fit(X_poly, y.ravel())\n",
        "lin_reg.intercept_, lin_reg.coef_\n"
      ],
      "execution_count": null,
      "outputs": [
        {
          "output_type": "stream",
          "text": [
            "/usr/local/lib/python3.6/dist-packages/sklearn/linear_model/_stochastic_gradient.py:1187: ConvergenceWarning: Maximum number of iteration reached before convergence. Consider increasing max_iter to improve the fit.\n",
            "  ConvergenceWarning)\n"
          ],
          "name": "stderr"
        },
        {
          "output_type": "execute_result",
          "data": {
            "text/plain": [
              "(array([1.54873635]), array([0.99951351, 0.58293803]))"
            ]
          },
          "metadata": {
            "tags": []
          },
          "execution_count": 142
        }
      ]
    },
    {
      "cell_type": "code",
      "metadata": {
        "colab": {
          "base_uri": "https://localhost:8080/"
        },
        "id": "nYe6fKFXoV0T",
        "outputId": "3c82e261-a0b1-459f-b7f7-d36923bd21c9"
      },
      "source": [
        "# Original learning rate of 0.1 does not converge\n",
        "eta = 0.01\n",
        "n_iterations = 10\n",
        "m = len(X_poly)\n",
        "\n",
        "# random initialization\n",
        "theta = np.random.randn(3,1)\n",
        "\n",
        "X_poly_b =  np.c_[np.ones((len(X_poly), 1)), X_poly]  # add x0 = 1 to each instance\n",
        "#print(theta.shape, X_poly_b.shape)\n",
        "\n",
        "\n",
        "for it in range(n_iterations):\n",
        "  gradients = X_poly_b.T@(X_poly_b@theta -y)\n",
        "  theta = theta - eta * 2/m * gradients\n",
        "\n",
        "theta"
      ],
      "execution_count": null,
      "outputs": [
        {
          "output_type": "execute_result",
          "data": {
            "text/plain": [
              "array([[-0.07450793],\n",
              "       [-0.35202801],\n",
              "       [ 0.97539972]])"
            ]
          },
          "metadata": {
            "tags": []
          },
          "execution_count": 138
        }
      ]
    },
    {
      "cell_type": "code",
      "metadata": {
        "colab": {
          "base_uri": "https://localhost:8080/"
        },
        "id": "i3IL1JemvRqB",
        "outputId": "557f7262-b27f-4dc0-a7fe-9a577a088fc4"
      },
      "source": [
        "thetaPseudoInverse = np.linalg.pinv(X_poly_b)@y\n",
        "thetaPseudoInverse"
      ],
      "execution_count": null,
      "outputs": [
        {
          "output_type": "execute_result",
          "data": {
            "text/plain": [
              "array([[2.19573036],\n",
              "       [1.00978737],\n",
              "       [0.4681429 ]])"
            ]
          },
          "metadata": {
            "tags": []
          },
          "execution_count": 135
        }
      ]
    },
    {
      "cell_type": "code",
      "metadata": {
        "colab": {
          "base_uri": "https://localhost:8080/",
          "height": 295
        },
        "id": "xacn9a86dt1Q",
        "outputId": "3b7e4026-839f-4f84-cf76-3398c768a0a8"
      },
      "source": [
        "X_new=np.linspace(-3, 3, 100).reshape(100, 1)\n",
        "X_new_poly = poly_features.transform(X_new)\n",
        "y_new = lin_reg.predict(X_new_poly)\n",
        "X_new_poly_gd_b =  np.c_[np.ones((len(X_new_poly), 1)), X_new_poly]  \n",
        "y_new_gd = X_new_poly_gd_b @ theta\n",
        "y_new_pseudo = X_new_poly_gd_b @ thetaPseudoInverse\n",
        "plt.plot(X, y, \"b.\")\n",
        "plt.plot(X_new, y_new, \"r-\", linewidth=2, label=\"Predictions\")\n",
        "plt.plot(X_new, y_new_gd, \"gx\", linewidth=2, label=\"Predictions GD\")\n",
        "plt.plot(X_new, y_new_pseudo, \"y-\", linewidth=2, label=\"Predictions Pseudo Inverse\")\n",
        "plt.xlabel(\"$x_1$\", fontsize=18)\n",
        "plt.ylabel(\"$y$\", rotation=0, fontsize=18)\n",
        "plt.legend(loc=\"upper left\", fontsize=14)\n",
        "plt.axis([-3, 3, 0, 10])\n",
        "plt.show()"
      ],
      "execution_count": null,
      "outputs": [
        {
          "output_type": "display_data",
          "data": {
            "image/png": "[encoded data removed]",
            "text/plain": [
              "<Figure size 432x288 with 1 Axes>"
            ]
          },
          "metadata": {
            "tags": [],
            "needs_background": "light"
          }
        }
      ]
    },
    {
      "cell_type": "markdown",
      "metadata": {
        "id": "T8oD_74X3Bxs"
      },
      "source": [
        "Regularized linerar Models\n",
        "\n",
        "Force weigths to be small\n",
        "\n",
        "**Ridge Regresion**\n",
        "$$J(\\theta) = MSE(\\theta) + \\alpha {1\\over{2}} \\sum_{i=1}^n {\\theta}_i^2 $$\n",
        "\n",
        "Closed form\n",
        "$$ \\hat{\\theta} = (X^TX + \\alpha A)^{-1} X^T y $$\n",
        "where is (n+1)x(n+1) Identity matrix with $$ a_{1,1} = 0 $$\n",
        "\n",
        "**Lasso Regression** (*Least Absolute Shrinkage and Selection Operator Regression*)\n",
        "$$J(\\theta) = MSE(\\theta) + \\alpha {1\\over{2}} \\sum_{i=1}^n |{\\theta}_i| $$\n",
        "\n",
        "**Elastic Net**\n",
        "$$J(\\theta) = MSE(\\theta) + {r\\alpha \\over{2}} \\sum_{i=1}^n |{\\theta}_i| + {{1-r}\\over{2}}\\alpha {1\\over{2}} \\sum_{i=1}^n {\\theta}_i^2 $$\n",
        "\n",
        "\n",
        "\n",
        "Only use penalty term during training!"
      ]
    },
    {
      "cell_type": "code",
      "metadata": {
        "colab": {
          "base_uri": "https://localhost:8080/",
          "height": 295
        },
        "id": "pqi-5oCp4lkb",
        "outputId": "41aecb9c-d16f-487a-cc23-7c68ce9bffd0"
      },
      "source": [
        "from sklearn.linear_model import Ridge\n",
        "ridge_reg = Ridge(alpha=1, solver='cholesky')\n",
        "ridge_reg.fit(X_poly,y)\n",
        "y_new = ridge_reg.predict(X_new_poly)\n",
        "\n",
        "sgd_reg = SGDRegressor(penalty=\"l2\")\n",
        "sgd_reg.fit(X_poly, y.ravel())\n",
        "y_new_sdg_l2 = sgd_reg.predict(X_new_poly)\n",
        "\n",
        "\n",
        "sgd_reg_l1 = SGDRegressor(penalty=\"l1\")\n",
        "sgd_reg_l1.fit(X_poly, y.ravel())\n",
        "y_new_sdg_l1 = sgd_reg_l1.predict(X_new_poly)\n",
        "\n",
        "\n",
        "plt.plot(X, y, \"b.\")\n",
        "plt.plot(X_new, y_new, \"r-\", linewidth=2, label=\"Predictions\")\n",
        "plt.plot(X_new, y_new_sdg_l2, \"gx\", linewidth=2, label=\"Predictions SGD l2\")\n",
        "plt.plot(X_new, y_new_sdg_l1, \"y+\", linewidth=2, label=\"Predictions SGD l1\")\n",
        "#plt.plot(X_new, y_new_pseudo, \"y-\", linewidth=2, label=\"Predictions Pseudo Inverse\")\n",
        "plt.xlabel(\"$x_1$\", fontsize=18)\n",
        "plt.ylabel(\"$y$\", rotation=0, fontsize=18)\n",
        "plt.legend(loc=\"upper left\", fontsize=14)\n",
        "plt.axis([-3, 3, 0, 10])\n",
        "plt.show()"
      ],
      "execution_count": 163,
      "outputs": [
        {
          "output_type": "display_data",
          "data": {
            "image/png": "[encoded data removed]",
            "text/plain": [
              "<Figure size 432x288 with 1 Axes>"
            ]
          },
          "metadata": {
            "tags": [],
            "needs_background": "light"
          }
        }
      ]
    }
  ]
}